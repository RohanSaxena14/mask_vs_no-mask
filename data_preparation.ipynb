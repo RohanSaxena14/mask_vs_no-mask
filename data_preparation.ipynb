{
  "nbformat": 4,
  "nbformat_minor": 0,
  "metadata": {
    "colab": {
      "name": "data_preparation.ipynb",
      "provenance": [],
      "collapsed_sections": [],
      "authorship_tag": "ABX9TyNVRyIIbfUNOw2oEo42QswE",
      "include_colab_link": true
    },
    "kernelspec": {
      "name": "python3",
      "display_name": "Python 3"
    },
    "accelerator": "GPU"
  },
  "cells": [
    {
      "cell_type": "markdown",
      "metadata": {
        "id": "view-in-github",
        "colab_type": "text"
      },
      "source": [
        "<a href=\"https://colab.research.google.com/github/RohanSaxena14/mask_vs_no-mask/blob/master/data_preparation.ipynb\" target=\"_parent\"><img src=\"https://colab.research.google.com/assets/colab-badge.svg\" alt=\"Open In Colab\"/></a>"
      ]
    },
    {
      "cell_type": "code",
      "metadata": {
        "id": "eM1ofYg07icm",
        "colab_type": "code",
        "colab": {}
      },
      "source": [
        "!wget http://arunponnusamy.com/files/mmod_human_face_detector.dat\n",
        "!wget https://github.com/RohanSaxena14/mask_vs_no-mask/raw/master/data/data.zip\n",
        "!unzip data.zip"
      ],
      "execution_count": 0,
      "outputs": []
    },
    {
      "cell_type": "code",
      "metadata": {
        "id": "vefm1C4OOpVO",
        "colab_type": "code",
        "colab": {}
      },
      "source": [
        "import dlib\n",
        "cnn_face_detector = dlib.cnn_face_detection_model_v1(\"/content/mmod_human_face_detector.dat\") # The cnn face detector in dlib"
      ],
      "execution_count": 0,
      "outputs": []
    },
    {
      "cell_type": "code",
      "metadata": {
        "id": "rtgPHDdbIMyY",
        "colab_type": "code",
        "colab": {}
      },
      "source": [
        "import os\n",
        "import cv2\n",
        "from google.colab.patches import cv2_imshow\n",
        "\n",
        "for folder_name in os.listdir(\"/content/content/face-mask-detector/dataset/\"):\n",
        "  print(folder_name)\n",
        "  for file_name in os.listdir(\"/content/content/face-mask-detector/dataset/\" + folder_name):\n",
        "    if file_name in os.listdir(\"/content/data_cropped/\" + str(folder_name)):\n",
        "      continue\n",
        "    \n",
        "    image = cv2.imread(\"/content/content/face-mask-detector/dataset/\" + str(folder_name) + \"/\" + str(file_name))\n",
        "    \n",
        "    gray = cv2.cvtColor(image, cv2.COLOR_BGR2GRAY)\n",
        "\n",
        "    faces = cnn_face_detector(image, 1) # Detecting faces using dlib\n",
        "\n",
        "    for face in faces: # Looping on all detected faces\n",
        "\n",
        "      x = face.rect.left()\n",
        "      y = face.rect.top()\n",
        "      w = face.rect.right() - x\n",
        "      h = face.rect.bottom() - y\n",
        "      \n",
        "      image = image[y : y+h, x : x+w]\n",
        "\n",
        "    os.chdir(\"/content/data_cropped/\" + str(folder_name))\n",
        "\n",
        "    try :\n",
        "      cv2.imwrite(file_name, image)\n",
        "    except:\n",
        "      pass\n",
        "\n",
        "\n",
        "!zip -r /content/data_cropped.zip /content/data_cropped "
      ],
      "execution_count": 0,
      "outputs": []
    }
  ]
}