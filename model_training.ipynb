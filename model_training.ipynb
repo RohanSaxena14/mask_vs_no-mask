{
  "nbformat": 4,
  "nbformat_minor": 0,
  "metadata": {
    "colab": {
      "name": "model_training.ipynb",
      "provenance": [],
      "collapsed_sections": [],
      "authorship_tag": "ABX9TyMUptDF4EN+RmhSHycY9dwD",
      "include_colab_link": true
    },
    "kernelspec": {
      "name": "python3",
      "display_name": "Python 3"
    },
    "accelerator": "GPU"
  },
  "cells": [
    {
      "cell_type": "markdown",
      "metadata": {
        "id": "view-in-github",
        "colab_type": "text"
      },
      "source": [
        "<a href=\"https://colab.research.google.com/github/RohanSaxena14/mask_vs_no-mask/blob/master/model_training.ipynb\" target=\"_parent\"><img src=\"https://colab.research.google.com/assets/colab-badge.svg\" alt=\"Open In Colab\"/></a>"
      ]
    },
    {
      "cell_type": "code",
      "metadata": {
        "id": "eM1ofYg07icm",
        "colab_type": "code",
        "colab": {}
      },
      "source": [
        "!wget https://github.com/RohanSaxena14/mask_vs_no-mask/raw/master/data/data_cropped.rar"
      ],
      "execution_count": 0,
      "outputs": []
    },
    {
      "cell_type": "code",
      "metadata": {
        "id": "DdzXmJ-ZBDkP",
        "colab_type": "code",
        "colab": {}
      },
      "source": [
        "!pip install patool\n",
        "\n",
        "import patoolib\n",
        "\n",
        "patoolib.extract_archive(\"data_cropped.rar\", outdir=\"/content/\")"
      ],
      "execution_count": 0,
      "outputs": []
    },
    {
      "cell_type": "code",
      "metadata": {
        "id": "M8wG_rSZ3DkS",
        "colab_type": "code",
        "outputId": "a5c8b1d8-e535-4ff9-d479-71cffb4cd61f",
        "colab": {
          "base_uri": "https://localhost:8080/",
          "height": 51
        }
      },
      "source": [
        "import os\n",
        "import cv2\n",
        "import random\n",
        "from google.colab.patches import cv2_imshow\n",
        "\n",
        "DIR = \"/content/data_cropped/\"\n",
        "data = []\n",
        "\n",
        "label = 1\n",
        "\n",
        "for folder_name in os.listdir(DIR):\n",
        "  print(folder_name)\n",
        "  for file_name in os.listdir(DIR + folder_name):\n",
        "    image = cv2.imread(DIR + folder_name + \"/\" + file_name)\n",
        "    image = cv2.resize(image, (300, 300))\n",
        "    data.append([image, label])\n",
        "  label = 0\n",
        "\n",
        "random.shuffle(data)"
      ],
      "execution_count": 3,
      "outputs": [
        {
          "output_type": "stream",
          "text": [
            "without_mask\n",
            "with_mask\n"
          ],
          "name": "stdout"
        }
      ]
    },
    {
      "cell_type": "code",
      "metadata": {
        "id": "GAK3uvJhCsDc",
        "colab_type": "code",
        "colab": {}
      },
      "source": [
        "import numpy as np\n",
        "\n",
        "images_tensor = []\n",
        "labels = []\n",
        "\n",
        "\n",
        "for image, label in data:\n",
        "  images_tensor.append(image)\n",
        "  labels.append(label)\n",
        "\n",
        "images_tensor = np.array(images_tensor).reshape(-1, 300, 300, 3)\n",
        "labels = np.array(labels)"
      ],
      "execution_count": 0,
      "outputs": []
    },
    {
      "cell_type": "code",
      "metadata": {
        "id": "wxotdyDYFB6q",
        "colab_type": "code",
        "outputId": "f93c2f02-993f-4ec6-fd95-ce0b6408c9ab",
        "colab": {
          "base_uri": "https://localhost:8080/",
          "height": 71
        }
      },
      "source": [
        "import tensorflow as tf\n",
        "base_model = tf.keras.applications.vgg16.VGG16(include_top = False, input_shape = (300,300,3))"
      ],
      "execution_count": 6,
      "outputs": [
        {
          "output_type": "stream",
          "text": [
            "Downloading data from https://storage.googleapis.com/tensorflow/keras-applications/vgg16/vgg16_weights_tf_dim_ordering_tf_kernels_notop.h5\n",
            "58892288/58889256 [==============================] - 0s 0us/step\n"
          ],
          "name": "stdout"
        }
      ]
    },
    {
      "cell_type": "code",
      "metadata": {
        "id": "WJkJ0pV2FQSA",
        "colab_type": "code",
        "outputId": "f2a130ad-bca1-4af7-baa8-adca1d218f02",
        "colab": {
          "base_uri": "https://localhost:8080/",
          "height": 814
        }
      },
      "source": [
        "base_model.summary()"
      ],
      "execution_count": 7,
      "outputs": [
        {
          "output_type": "stream",
          "text": [
            "Model: \"vgg16\"\n",
            "_________________________________________________________________\n",
            "Layer (type)                 Output Shape              Param #   \n",
            "=================================================================\n",
            "input_1 (InputLayer)         [(None, 300, 300, 3)]     0         \n",
            "_________________________________________________________________\n",
            "block1_conv1 (Conv2D)        (None, 300, 300, 64)      1792      \n",
            "_________________________________________________________________\n",
            "block1_conv2 (Conv2D)        (None, 300, 300, 64)      36928     \n",
            "_________________________________________________________________\n",
            "block1_pool (MaxPooling2D)   (None, 150, 150, 64)      0         \n",
            "_________________________________________________________________\n",
            "block2_conv1 (Conv2D)        (None, 150, 150, 128)     73856     \n",
            "_________________________________________________________________\n",
            "block2_conv2 (Conv2D)        (None, 150, 150, 128)     147584    \n",
            "_________________________________________________________________\n",
            "block2_pool (MaxPooling2D)   (None, 75, 75, 128)       0         \n",
            "_________________________________________________________________\n",
            "block3_conv1 (Conv2D)        (None, 75, 75, 256)       295168    \n",
            "_________________________________________________________________\n",
            "block3_conv2 (Conv2D)        (None, 75, 75, 256)       590080    \n",
            "_________________________________________________________________\n",
            "block3_conv3 (Conv2D)        (None, 75, 75, 256)       590080    \n",
            "_________________________________________________________________\n",
            "block3_pool (MaxPooling2D)   (None, 37, 37, 256)       0         \n",
            "_________________________________________________________________\n",
            "block4_conv1 (Conv2D)        (None, 37, 37, 512)       1180160   \n",
            "_________________________________________________________________\n",
            "block4_conv2 (Conv2D)        (None, 37, 37, 512)       2359808   \n",
            "_________________________________________________________________\n",
            "block4_conv3 (Conv2D)        (None, 37, 37, 512)       2359808   \n",
            "_________________________________________________________________\n",
            "block4_pool (MaxPooling2D)   (None, 18, 18, 512)       0         \n",
            "_________________________________________________________________\n",
            "block5_conv1 (Conv2D)        (None, 18, 18, 512)       2359808   \n",
            "_________________________________________________________________\n",
            "block5_conv2 (Conv2D)        (None, 18, 18, 512)       2359808   \n",
            "_________________________________________________________________\n",
            "block5_conv3 (Conv2D)        (None, 18, 18, 512)       2359808   \n",
            "_________________________________________________________________\n",
            "block5_pool (MaxPooling2D)   (None, 9, 9, 512)         0         \n",
            "=================================================================\n",
            "Total params: 14,714,688\n",
            "Trainable params: 14,714,688\n",
            "Non-trainable params: 0\n",
            "_________________________________________________________________\n"
          ],
          "name": "stdout"
        }
      ]
    },
    {
      "cell_type": "code",
      "metadata": {
        "id": "PAWw0yBxFPoU",
        "colab_type": "code",
        "colab": {}
      },
      "source": [
        "for layer in base_model.layers[:17]:\n",
        "  layer.trainable = False"
      ],
      "execution_count": 0,
      "outputs": []
    },
    {
      "cell_type": "code",
      "metadata": {
        "id": "ath1FWOKD-rT",
        "colab_type": "code",
        "colab": {}
      },
      "source": [
        "model = tf.keras.Sequential([\n",
        "                             base_model,\n",
        "                             tf.keras.layers.Flatten(),\n",
        "                             tf.keras.layers.Dense(1024, activation = 'relu'),\n",
        "                             tf.keras.layers.Dropout(0.5),\n",
        "                             tf.keras.layers.Dense(512, activation = 'relu'),\n",
        "                             tf.keras.layers.Dropout(0.5),\n",
        "                             tf.keras.layers.Dense(256, activation = 'relu'),\n",
        "                             tf.keras.layers.Dropout(0.5),\n",
        "                             tf.keras.layers.Dense(1, activation = 'sigmoid')\n",
        "])"
      ],
      "execution_count": 0,
      "outputs": []
    },
    {
      "cell_type": "code",
      "metadata": {
        "id": "u0vunQiSD_v1",
        "colab_type": "code",
        "colab": {}
      },
      "source": [
        "model.compile(optimizer = 'adam', loss = 'binary_crossentropy', metrics = ['accuracy'])"
      ],
      "execution_count": 0,
      "outputs": []
    },
    {
      "cell_type": "code",
      "metadata": {
        "id": "_KU6xxILECNr",
        "colab_type": "code",
        "outputId": "92ba13af-0814-47e9-b930-772eb02ba98a",
        "colab": {
          "base_uri": "https://localhost:8080/",
          "height": 103
        }
      },
      "source": [
        "model.fit(images_tensor, labels, epochs = 2, batch_size = 32, validation_split = 0.2)"
      ],
      "execution_count": 16,
      "outputs": [
        {
          "output_type": "stream",
          "text": [
            "Epoch 1/2\n",
            "30/30 [==============================] - 5s 182ms/step - loss: 2.4769 - accuracy: 0.9455 - val_loss: 0.4842 - val_accuracy: 0.9916\n",
            "Epoch 2/2\n",
            "30/30 [==============================] - 5s 175ms/step - loss: 0.4799 - accuracy: 0.9916 - val_loss: 0.0015 - val_accuracy: 1.0000\n"
          ],
          "name": "stdout"
        },
        {
          "output_type": "execute_result",
          "data": {
            "text/plain": [
              "<tensorflow.python.keras.callbacks.History at 0x7f3985575c18>"
            ]
          },
          "metadata": {
            "tags": []
          },
          "execution_count": 16
        }
      ]
    },
    {
      "cell_type": "code",
      "metadata": {
        "id": "mdESEPlgGUVH",
        "colab_type": "code",
        "colab": {}
      },
      "source": [
        "model.save(\"face_mask_model\")"
      ],
      "execution_count": 0,
      "outputs": []
    },
    {
      "cell_type": "code",
      "metadata": {
        "id": "tZE5D6csHAQ1",
        "colab_type": "code",
        "colab": {}
      },
      "source": [
        "!zip -r /content/face_mask_model.zip /content/face_mask_model"
      ],
      "execution_count": 0,
      "outputs": []
    }
  ]
}